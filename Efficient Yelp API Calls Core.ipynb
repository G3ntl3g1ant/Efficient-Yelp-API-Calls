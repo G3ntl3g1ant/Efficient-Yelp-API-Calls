{
 "cells": [
  {
   "cell_type": "markdown",
   "id": "9bafd8bb",
   "metadata": {},
   "source": [
    "# Imports"
   ]
  },
  {
   "cell_type": "code",
   "execution_count": 1,
   "id": "c96b7dcf",
   "metadata": {},
   "outputs": [],
   "source": [
    "# Standard Imports\n",
    "import numpy as np\n",
    "import pandas as pd\n",
    "import matplotlib.pyplot as plt\n",
    "import seaborn as sns\n",
    "# Additional Imports\n",
    "import os, json, math, time\n",
    "from yelpapi import YelpAPI\n",
    "from tqdm.notebook import tqdm_notebook"
   ]
  },
  {
   "cell_type": "code",
   "execution_count": 2,
   "id": "1075ed3d",
   "metadata": {},
   "outputs": [
    {
     "data": {
      "text/plain": [
       "dict_keys(['client-id', 'api-key'])"
      ]
     },
     "execution_count": 2,
     "metadata": {},
     "output_type": "execute_result"
    }
   ],
   "source": [
    "# Adding in API JSON credentials\n",
    "with open('/Users/G3NTL3G1ANT/.secret/yelp_api.json') as f: \n",
    "    login = json.load(f)\n",
    "login.keys()"
   ]
  },
  {
   "cell_type": "code",
   "execution_count": 3,
   "id": "91d52a29",
   "metadata": {},
   "outputs": [],
   "source": [
    "# Instantiate YelpAPI Variable\n",
    "yelp_api = YelpAPI(login['api-key'], timeout_s=5.0)"
   ]
  },
  {
   "cell_type": "code",
   "execution_count": 4,
   "id": "8a8e27d3",
   "metadata": {},
   "outputs": [],
   "source": [
    "# set our API call parameters \n",
    "LOCATION = 'Daly City,CA'\n",
    "TERM = 'Sushi'"
   ]
  },
  {
   "cell_type": "code",
   "execution_count": 5,
   "id": "bb17fc90",
   "metadata": {},
   "outputs": [
    {
     "data": {
      "text/plain": [
       "'Data/results_in_progress_CA_sushi.json'"
      ]
     },
     "execution_count": 5,
     "metadata": {},
     "output_type": "execute_result"
    }
   ],
   "source": [
    "# Specifying JSON_FILEC filename (can include a folder)\n",
    "# include the search terms in the filename\n",
    "JSON_FILE = \"Data/results_in_progress_CA_sushi.json\"\n",
    "JSON_FILE"
   ]
  },
  {
   "cell_type": "code",
   "execution_count": 6,
   "id": "bf0169b6",
   "metadata": {},
   "outputs": [],
   "source": [
    "def create_json_file(JSON_FILE, delete_if_exists=False):\n",
    "    # Check if JSON_FILE exists\n",
    "    file_exists = os.path.isfile(JSON_FILE)\n",
    "    # If it DOES exist\n",
    "    if file_exists == True:\n",
    "        # Check if user wants to delete if exists\n",
    "        if delete_if_exists==True:\n",
    "            print(f\"[!] {JSON_FILE} already exists. Deleting previous file...\")\n",
    "            # Delete file and confirm it no longer exists\n",
    "            os.remove(JSON_FILE)\n",
    "            # Recursuve call to function after old file is deleted\n",
    "            create_json_file(JSON_FILE,delete_if_exists=False)\n",
    "        else:\n",
    "            print(f\"[i] {JSON_FILE} already exists.\")\n",
    "    # If it does NOT exist\n",
    "    else:\n",
    "        # INFORM USER AND SAVE EMPTY LIST\n",
    "        print(f\"[i] {JSON_FILE} not found. Saving empty list to new file.\")\n",
    "        # CREATE ANY NEEDED FOLDERS\n",
    "        # Get the FOLDER NAME only\n",
    "        folder = os.path.dirname(JSON_FILE)\n",
    "        # If JSON_FILE included a folder:\n",
    "        if len(folder)>0:\n",
    "            # Create the folder\n",
    "            os.makedirs(folder,exist_ok=True)\n",
    "            # Save empty list to start the JSON_FILE\n",
    "            with open(JSON_FILE, 'w') as f:\n",
    "                json.dump([],f)"
   ]
  },
  {
   "cell_type": "code",
   "execution_count": 7,
   "id": "65be7a11",
   "metadata": {},
   "outputs": [
    {
     "name": "stdout",
     "output_type": "stream",
     "text": [
      "[!] Data/results_in_progress_CA_sushi.json already exists. Deleting previous file...\n",
      "[i] Data/results_in_progress_CA_sushi.json not found. Saving empty list to new file.\n",
      "- 0 previous results found.\n"
     ]
    }
   ],
   "source": [
    "## Create a new empty json file (exist the previous if it exists)\n",
    "create_json_file(JSON_FILE, delete_if_exists=True)\n",
    "## Load previous results and use len of results for offset\n",
    "with open(JSON_FILE,'r') as f:\n",
    "    previous_results = json.load(f)\n",
    "    \n",
    "## set offset based on previous results\n",
    "n_results = len(previous_results)\n",
    "print(f'- {n_results} previous results found.')\n",
    "# use our yelp_api variable's search_query method to perform our API call\n",
    "results = yelp_api.search_query(location=LOCATION,\n",
    "                                term=TERM,\n",
    "                               offset=n_results)"
   ]
  },
  {
   "cell_type": "code",
   "execution_count": 8,
   "id": "698bff26",
   "metadata": {},
   "outputs": [
    {
     "data": {
      "text/plain": [
       "271"
      ]
     },
     "execution_count": 8,
     "metadata": {},
     "output_type": "execute_result"
    }
   ],
   "source": [
    "## How many results total?\n",
    "total_results = results['total']\n",
    "total_results"
   ]
  },
  {
   "cell_type": "code",
   "execution_count": 9,
   "id": "9aa05451",
   "metadata": {},
   "outputs": [
    {
     "data": {
      "text/plain": [
       "20"
      ]
     },
     "execution_count": 9,
     "metadata": {},
     "output_type": "execute_result"
    }
   ],
   "source": [
    "## How many did we get the details for?\n",
    "results_per_page = len(results['businesses'])\n",
    "results_per_page"
   ]
  },
  {
   "cell_type": "code",
   "execution_count": 10,
   "id": "f82bb67e",
   "metadata": {},
   "outputs": [
    {
     "data": {
      "text/plain": [
       "14"
      ]
     },
     "execution_count": 10,
     "metadata": {},
     "output_type": "execute_result"
    }
   ],
   "source": [
    "# Use math.ceil to round up for the total number of pages of results.\n",
    "n_pages = math.ceil((results['total']-n_results)/ results_per_page)\n",
    "n_pages"
   ]
  },
  {
   "cell_type": "code",
   "execution_count": 11,
   "id": "9e625f99",
   "metadata": {},
   "outputs": [
    {
     "data": {
      "application/vnd.jupyter.widget-view+json": {
       "model_id": "867044370007495599d7dcf69b87d747",
       "version_major": 2,
       "version_minor": 0
      },
      "text/plain": [
       "  0%|          | 0/14 [00:00<?, ?it/s]"
      ]
     },
     "metadata": {},
     "output_type": "display_data"
    }
   ],
   "source": [
    "for i in tqdm_notebook( range(1,n_pages+1)):\n",
    "    \n",
    "    ## Read in results in progress file and check the length\n",
    "    with open(JSON_FILE, 'r') as f:\n",
    "        previous_results = json.load(f)\n",
    "    ## save number of results for to use as offset\n",
    "    n_results = len(previous_results)\n",
    "    \n",
    "    if (n_results + results_per_page) > 1000:\n",
    "        print('Exceeded 1000 api calls. Stopping loop.')\n",
    "        break\n",
    "    \n",
    "    ## use n_results as the OFFSET \n",
    "    results = yelp_api.search_query(location=LOCATION,\n",
    "                                    term=TERM, \n",
    "                                    offset=n_results)\n",
    "    \n",
    "    \n",
    "    \n",
    "    ## append new results and save to file\n",
    "    previous_results.extend(results['businesses'])\n",
    "    \n",
    "    # display(previous_results)\n",
    "    with open(JSON_FILE,'w') as f:\n",
    "        json.dump(previous_results,f)\n",
    "    \n",
    "    time.sleep(.2)"
   ]
  },
  {
   "cell_type": "code",
   "execution_count": 12,
   "id": "6d9b5ed7",
   "metadata": {},
   "outputs": [
    {
     "data": {
      "text/html": [
       "<div>\n",
       "<style scoped>\n",
       "    .dataframe tbody tr th:only-of-type {\n",
       "        vertical-align: middle;\n",
       "    }\n",
       "\n",
       "    .dataframe tbody tr th {\n",
       "        vertical-align: top;\n",
       "    }\n",
       "\n",
       "    .dataframe thead th {\n",
       "        text-align: right;\n",
       "    }\n",
       "</style>\n",
       "<table border=\"1\" class=\"dataframe\">\n",
       "  <thead>\n",
       "    <tr style=\"text-align: right;\">\n",
       "      <th></th>\n",
       "      <th>id</th>\n",
       "      <th>alias</th>\n",
       "      <th>name</th>\n",
       "      <th>image_url</th>\n",
       "      <th>is_closed</th>\n",
       "      <th>url</th>\n",
       "      <th>review_count</th>\n",
       "      <th>categories</th>\n",
       "      <th>rating</th>\n",
       "      <th>coordinates</th>\n",
       "      <th>transactions</th>\n",
       "      <th>price</th>\n",
       "      <th>location</th>\n",
       "      <th>phone</th>\n",
       "      <th>display_phone</th>\n",
       "      <th>distance</th>\n",
       "    </tr>\n",
       "  </thead>\n",
       "  <tbody>\n",
       "    <tr>\n",
       "      <th>0</th>\n",
       "      <td>4cXj-H3qt-fE4Ly8giRP-A</td>\n",
       "      <td>izumi-revolving-sushi-daly-city-2</td>\n",
       "      <td>Izumi Revolving Sushi</td>\n",
       "      <td>https://s3-media2.fl.yelpcdn.com/bphoto/caj-Qe...</td>\n",
       "      <td>False</td>\n",
       "      <td>https://www.yelp.com/biz/izumi-revolving-sushi...</td>\n",
       "      <td>262</td>\n",
       "      <td>[{'alias': 'sushi', 'title': 'Sushi Bars'}, {'...</td>\n",
       "      <td>3.5</td>\n",
       "      <td>{'latitude': 37.671829010252814, 'longitude': ...</td>\n",
       "      <td>[pickup, delivery]</td>\n",
       "      <td>$$</td>\n",
       "      <td>{'address1': '94 Serramonte Ctr', 'address2': ...</td>\n",
       "      <td>+16509855555</td>\n",
       "      <td>(650) 985-5555</td>\n",
       "      <td>1800.386078</td>\n",
       "    </tr>\n",
       "    <tr>\n",
       "      <th>1</th>\n",
       "      <td>KQzMMqzpxhVtdgSpJPeXyg</td>\n",
       "      <td>tom-san-ramen-daly-city</td>\n",
       "      <td>Tom San Ramen</td>\n",
       "      <td>https://s3-media4.fl.yelpcdn.com/bphoto/yfZO47...</td>\n",
       "      <td>False</td>\n",
       "      <td>https://www.yelp.com/biz/tom-san-ramen-daly-ci...</td>\n",
       "      <td>305</td>\n",
       "      <td>[{'alias': 'ramen', 'title': 'Ramen'}, {'alias...</td>\n",
       "      <td>4.0</td>\n",
       "      <td>{'latitude': 37.697134, 'longitude': -122.48377}</td>\n",
       "      <td>[pickup, delivery]</td>\n",
       "      <td>$$</td>\n",
       "      <td>{'address1': '177 Southgate Ave', 'address2': ...</td>\n",
       "      <td>+16509934204</td>\n",
       "      <td>(650) 993-4204</td>\n",
       "      <td>3423.026168</td>\n",
       "    </tr>\n",
       "    <tr>\n",
       "      <th>2</th>\n",
       "      <td>wSsuLcdgXat_g69PswYWxw</td>\n",
       "      <td>ichika-sushi-house-brisbane</td>\n",
       "      <td>Ichika Sushi House</td>\n",
       "      <td>https://s3-media3.fl.yelpcdn.com/bphoto/AFE4nV...</td>\n",
       "      <td>False</td>\n",
       "      <td>https://www.yelp.com/biz/ichika-sushi-house-br...</td>\n",
       "      <td>723</td>\n",
       "      <td>[{'alias': 'japanese', 'title': 'Japanese'}, {...</td>\n",
       "      <td>4.5</td>\n",
       "      <td>{'latitude': 37.68559, 'longitude': -122.39976}</td>\n",
       "      <td>[pickup, delivery]</td>\n",
       "      <td>$$</td>\n",
       "      <td>{'address1': '118 Old County Rd', 'address2': ...</td>\n",
       "      <td>+14158255790</td>\n",
       "      <td>(415) 825-5790</td>\n",
       "      <td>4750.381852</td>\n",
       "    </tr>\n",
       "    <tr>\n",
       "      <th>3</th>\n",
       "      <td>0K6O21FH30efT_nDB_ALIg</td>\n",
       "      <td>tomo-sushi-and-teriyaki-daly-city</td>\n",
       "      <td>Tomo Sushi &amp; Teriyaki</td>\n",
       "      <td>https://s3-media3.fl.yelpcdn.com/bphoto/buQhI5...</td>\n",
       "      <td>False</td>\n",
       "      <td>https://www.yelp.com/biz/tomo-sushi-and-teriya...</td>\n",
       "      <td>606</td>\n",
       "      <td>[{'alias': 'japanese', 'title': 'Japanese'}, {...</td>\n",
       "      <td>3.5</td>\n",
       "      <td>{'latitude': 37.7020804132731, 'longitude': -1...</td>\n",
       "      <td>[pickup, delivery]</td>\n",
       "      <td>$$</td>\n",
       "      <td>{'address1': '1901 Junipero Serra Blvd', 'addr...</td>\n",
       "      <td>+16509911045</td>\n",
       "      <td>(650) 991-1045</td>\n",
       "      <td>3055.382010</td>\n",
       "    </tr>\n",
       "    <tr>\n",
       "      <th>4</th>\n",
       "      <td>m-X2DibsCMVNrkgiN2lo6g</td>\n",
       "      <td>kamu-sushi-south-san-francisco</td>\n",
       "      <td>Kamu Sushi</td>\n",
       "      <td>https://s3-media1.fl.yelpcdn.com/bphoto/3M8dsJ...</td>\n",
       "      <td>False</td>\n",
       "      <td>https://www.yelp.com/biz/kamu-sushi-south-san-...</td>\n",
       "      <td>652</td>\n",
       "      <td>[{'alias': 'japanese', 'title': 'Japanese'}, {...</td>\n",
       "      <td>4.0</td>\n",
       "      <td>{'latitude': 37.6548865, 'longitude': -122.408...</td>\n",
       "      <td>[delivery, restaurant_reservation]</td>\n",
       "      <td>$$</td>\n",
       "      <td>{'address1': '112 Grand Ave', 'address2': '', ...</td>\n",
       "      <td>+16509522888</td>\n",
       "      <td>(650) 952-2888</td>\n",
       "      <td>4720.708190</td>\n",
       "    </tr>\n",
       "  </tbody>\n",
       "</table>\n",
       "</div>"
      ],
      "text/plain": [
       "                       id                              alias  \\\n",
       "0  4cXj-H3qt-fE4Ly8giRP-A  izumi-revolving-sushi-daly-city-2   \n",
       "1  KQzMMqzpxhVtdgSpJPeXyg            tom-san-ramen-daly-city   \n",
       "2  wSsuLcdgXat_g69PswYWxw        ichika-sushi-house-brisbane   \n",
       "3  0K6O21FH30efT_nDB_ALIg  tomo-sushi-and-teriyaki-daly-city   \n",
       "4  m-X2DibsCMVNrkgiN2lo6g     kamu-sushi-south-san-francisco   \n",
       "\n",
       "                    name                                          image_url  \\\n",
       "0  Izumi Revolving Sushi  https://s3-media2.fl.yelpcdn.com/bphoto/caj-Qe...   \n",
       "1          Tom San Ramen  https://s3-media4.fl.yelpcdn.com/bphoto/yfZO47...   \n",
       "2     Ichika Sushi House  https://s3-media3.fl.yelpcdn.com/bphoto/AFE4nV...   \n",
       "3  Tomo Sushi & Teriyaki  https://s3-media3.fl.yelpcdn.com/bphoto/buQhI5...   \n",
       "4             Kamu Sushi  https://s3-media1.fl.yelpcdn.com/bphoto/3M8dsJ...   \n",
       "\n",
       "   is_closed                                                url  review_count  \\\n",
       "0      False  https://www.yelp.com/biz/izumi-revolving-sushi...           262   \n",
       "1      False  https://www.yelp.com/biz/tom-san-ramen-daly-ci...           305   \n",
       "2      False  https://www.yelp.com/biz/ichika-sushi-house-br...           723   \n",
       "3      False  https://www.yelp.com/biz/tomo-sushi-and-teriya...           606   \n",
       "4      False  https://www.yelp.com/biz/kamu-sushi-south-san-...           652   \n",
       "\n",
       "                                          categories  rating  \\\n",
       "0  [{'alias': 'sushi', 'title': 'Sushi Bars'}, {'...     3.5   \n",
       "1  [{'alias': 'ramen', 'title': 'Ramen'}, {'alias...     4.0   \n",
       "2  [{'alias': 'japanese', 'title': 'Japanese'}, {...     4.5   \n",
       "3  [{'alias': 'japanese', 'title': 'Japanese'}, {...     3.5   \n",
       "4  [{'alias': 'japanese', 'title': 'Japanese'}, {...     4.0   \n",
       "\n",
       "                                         coordinates  \\\n",
       "0  {'latitude': 37.671829010252814, 'longitude': ...   \n",
       "1   {'latitude': 37.697134, 'longitude': -122.48377}   \n",
       "2    {'latitude': 37.68559, 'longitude': -122.39976}   \n",
       "3  {'latitude': 37.7020804132731, 'longitude': -1...   \n",
       "4  {'latitude': 37.6548865, 'longitude': -122.408...   \n",
       "\n",
       "                         transactions price  \\\n",
       "0                  [pickup, delivery]    $$   \n",
       "1                  [pickup, delivery]    $$   \n",
       "2                  [pickup, delivery]    $$   \n",
       "3                  [pickup, delivery]    $$   \n",
       "4  [delivery, restaurant_reservation]    $$   \n",
       "\n",
       "                                            location         phone  \\\n",
       "0  {'address1': '94 Serramonte Ctr', 'address2': ...  +16509855555   \n",
       "1  {'address1': '177 Southgate Ave', 'address2': ...  +16509934204   \n",
       "2  {'address1': '118 Old County Rd', 'address2': ...  +14158255790   \n",
       "3  {'address1': '1901 Junipero Serra Blvd', 'addr...  +16509911045   \n",
       "4  {'address1': '112 Grand Ave', 'address2': '', ...  +16509522888   \n",
       "\n",
       "    display_phone     distance  \n",
       "0  (650) 985-5555  1800.386078  \n",
       "1  (650) 993-4204  3423.026168  \n",
       "2  (415) 825-5790  4750.381852  \n",
       "3  (650) 991-1045  3055.382010  \n",
       "4  (650) 952-2888  4720.708190  "
      ]
     },
     "metadata": {},
     "output_type": "display_data"
    },
    {
     "data": {
      "text/html": [
       "<div>\n",
       "<style scoped>\n",
       "    .dataframe tbody tr th:only-of-type {\n",
       "        vertical-align: middle;\n",
       "    }\n",
       "\n",
       "    .dataframe tbody tr th {\n",
       "        vertical-align: top;\n",
       "    }\n",
       "\n",
       "    .dataframe thead th {\n",
       "        text-align: right;\n",
       "    }\n",
       "</style>\n",
       "<table border=\"1\" class=\"dataframe\">\n",
       "  <thead>\n",
       "    <tr style=\"text-align: right;\">\n",
       "      <th></th>\n",
       "      <th>id</th>\n",
       "      <th>alias</th>\n",
       "      <th>name</th>\n",
       "      <th>image_url</th>\n",
       "      <th>is_closed</th>\n",
       "      <th>url</th>\n",
       "      <th>review_count</th>\n",
       "      <th>categories</th>\n",
       "      <th>rating</th>\n",
       "      <th>coordinates</th>\n",
       "      <th>transactions</th>\n",
       "      <th>price</th>\n",
       "      <th>location</th>\n",
       "      <th>phone</th>\n",
       "      <th>display_phone</th>\n",
       "      <th>distance</th>\n",
       "    </tr>\n",
       "  </thead>\n",
       "  <tbody>\n",
       "    <tr>\n",
       "      <th>266</th>\n",
       "      <td>C9YDe3DdURTN01ZaTefWWw</td>\n",
       "      <td>safeway-san-francisco-21</td>\n",
       "      <td>Safeway</td>\n",
       "      <td>https://s3-media4.fl.yelpcdn.com/bphoto/srKv5b...</td>\n",
       "      <td>False</td>\n",
       "      <td>https://www.yelp.com/biz/safeway-san-francisco...</td>\n",
       "      <td>266</td>\n",
       "      <td>[{'alias': 'grocery', 'title': 'Grocery'}]</td>\n",
       "      <td>2.0</td>\n",
       "      <td>{'latitude': 37.743262, 'longitude': -122.4739...</td>\n",
       "      <td>[]</td>\n",
       "      <td>$$</td>\n",
       "      <td>{'address1': '730 Taraval St', 'address2': '',...</td>\n",
       "      <td>+14156654136</td>\n",
       "      <td>(415) 665-4136</td>\n",
       "      <td>7470.586859</td>\n",
       "    </tr>\n",
       "    <tr>\n",
       "      <th>267</th>\n",
       "      <td>NDwLp5NXPU7bvnxdsVYntw</td>\n",
       "      <td>safeway-san-francisco-17</td>\n",
       "      <td>Safeway</td>\n",
       "      <td>https://s3-media4.fl.yelpcdn.com/bphoto/WkLsHi...</td>\n",
       "      <td>False</td>\n",
       "      <td>https://www.yelp.com/biz/safeway-san-francisco...</td>\n",
       "      <td>291</td>\n",
       "      <td>[{'alias': 'grocery', 'title': 'Grocery'}]</td>\n",
       "      <td>2.5</td>\n",
       "      <td>{'latitude': 37.7435706998295, 'longitude': -1...</td>\n",
       "      <td>[]</td>\n",
       "      <td>$$</td>\n",
       "      <td>{'address1': '5290 Diamond Heights Blvd', 'add...</td>\n",
       "      <td>+14158247744</td>\n",
       "      <td>(415) 824-7744</td>\n",
       "      <td>7352.131724</td>\n",
       "    </tr>\n",
       "    <tr>\n",
       "      <th>268</th>\n",
       "      <td>P-PhLMdBTZSPC4Z_IS3i0w</td>\n",
       "      <td>serranos-pizza-san-francisco-2</td>\n",
       "      <td>Serrano's Pizza</td>\n",
       "      <td>https://s3-media1.fl.yelpcdn.com/bphoto/VA1fD_...</td>\n",
       "      <td>False</td>\n",
       "      <td>https://www.yelp.com/biz/serranos-pizza-san-fr...</td>\n",
       "      <td>662</td>\n",
       "      <td>[{'alias': 'pizza', 'title': 'Pizza'}, {'alias...</td>\n",
       "      <td>3.5</td>\n",
       "      <td>{'latitude': 37.75714, 'longitude': -122.42051}</td>\n",
       "      <td>[pickup, delivery]</td>\n",
       "      <td>$</td>\n",
       "      <td>{'address1': '3274 21st St', 'address2': '', '...</td>\n",
       "      <td>+14156951615</td>\n",
       "      <td>(415) 695-1615</td>\n",
       "      <td>9203.601452</td>\n",
       "    </tr>\n",
       "    <tr>\n",
       "      <th>269</th>\n",
       "      <td>ADFGHvCR1e5MvF-BD-6qdA</td>\n",
       "      <td>the-plant-cafe-organic-san-francisco-9</td>\n",
       "      <td>The Plant Cafe Organic</td>\n",
       "      <td>https://s3-media1.fl.yelpcdn.com/bphoto/qF_NFB...</td>\n",
       "      <td>False</td>\n",
       "      <td>https://www.yelp.com/biz/the-plant-cafe-organi...</td>\n",
       "      <td>348</td>\n",
       "      <td>[{'alias': 'vegetarian', 'title': 'Vegetarian'...</td>\n",
       "      <td>3.0</td>\n",
       "      <td>{'latitude': 37.6172703, 'longitude': -122.381...</td>\n",
       "      <td>[]</td>\n",
       "      <td>$$</td>\n",
       "      <td>{'address1': '173 Airport Access Rd', 'address...</td>\n",
       "      <td>+16508219290</td>\n",
       "      <td>(650) 821-9290</td>\n",
       "      <td>9263.749899</td>\n",
       "    </tr>\n",
       "    <tr>\n",
       "      <th>270</th>\n",
       "      <td>8nh53RlytiFpqtA3eTh7gw</td>\n",
       "      <td>dominos-pizza-san-francisco</td>\n",
       "      <td>Domino's Pizza</td>\n",
       "      <td>https://s3-media1.fl.yelpcdn.com/bphoto/V4MWdf...</td>\n",
       "      <td>False</td>\n",
       "      <td>https://www.yelp.com/biz/dominos-pizza-san-fra...</td>\n",
       "      <td>299</td>\n",
       "      <td>[{'alias': 'pizza', 'title': 'Pizza'}, {'alias...</td>\n",
       "      <td>2.0</td>\n",
       "      <td>{'latitude': 37.7534963038738, 'longitude': -1...</td>\n",
       "      <td>[pickup, delivery]</td>\n",
       "      <td>$</td>\n",
       "      <td>{'address1': '3116 Noriega St', 'address2': No...</td>\n",
       "      <td>+14156818100</td>\n",
       "      <td>(415) 681-8100</td>\n",
       "      <td>9214.852991</td>\n",
       "    </tr>\n",
       "  </tbody>\n",
       "</table>\n",
       "</div>"
      ],
      "text/plain": [
       "                         id                                   alias  \\\n",
       "266  C9YDe3DdURTN01ZaTefWWw                safeway-san-francisco-21   \n",
       "267  NDwLp5NXPU7bvnxdsVYntw                safeway-san-francisco-17   \n",
       "268  P-PhLMdBTZSPC4Z_IS3i0w          serranos-pizza-san-francisco-2   \n",
       "269  ADFGHvCR1e5MvF-BD-6qdA  the-plant-cafe-organic-san-francisco-9   \n",
       "270  8nh53RlytiFpqtA3eTh7gw             dominos-pizza-san-francisco   \n",
       "\n",
       "                       name  \\\n",
       "266                 Safeway   \n",
       "267                 Safeway   \n",
       "268         Serrano's Pizza   \n",
       "269  The Plant Cafe Organic   \n",
       "270          Domino's Pizza   \n",
       "\n",
       "                                             image_url  is_closed  \\\n",
       "266  https://s3-media4.fl.yelpcdn.com/bphoto/srKv5b...      False   \n",
       "267  https://s3-media4.fl.yelpcdn.com/bphoto/WkLsHi...      False   \n",
       "268  https://s3-media1.fl.yelpcdn.com/bphoto/VA1fD_...      False   \n",
       "269  https://s3-media1.fl.yelpcdn.com/bphoto/qF_NFB...      False   \n",
       "270  https://s3-media1.fl.yelpcdn.com/bphoto/V4MWdf...      False   \n",
       "\n",
       "                                                   url  review_count  \\\n",
       "266  https://www.yelp.com/biz/safeway-san-francisco...           266   \n",
       "267  https://www.yelp.com/biz/safeway-san-francisco...           291   \n",
       "268  https://www.yelp.com/biz/serranos-pizza-san-fr...           662   \n",
       "269  https://www.yelp.com/biz/the-plant-cafe-organi...           348   \n",
       "270  https://www.yelp.com/biz/dominos-pizza-san-fra...           299   \n",
       "\n",
       "                                            categories  rating  \\\n",
       "266         [{'alias': 'grocery', 'title': 'Grocery'}]     2.0   \n",
       "267         [{'alias': 'grocery', 'title': 'Grocery'}]     2.5   \n",
       "268  [{'alias': 'pizza', 'title': 'Pizza'}, {'alias...     3.5   \n",
       "269  [{'alias': 'vegetarian', 'title': 'Vegetarian'...     3.0   \n",
       "270  [{'alias': 'pizza', 'title': 'Pizza'}, {'alias...     2.0   \n",
       "\n",
       "                                           coordinates        transactions  \\\n",
       "266  {'latitude': 37.743262, 'longitude': -122.4739...                  []   \n",
       "267  {'latitude': 37.7435706998295, 'longitude': -1...                  []   \n",
       "268    {'latitude': 37.75714, 'longitude': -122.42051}  [pickup, delivery]   \n",
       "269  {'latitude': 37.6172703, 'longitude': -122.381...                  []   \n",
       "270  {'latitude': 37.7534963038738, 'longitude': -1...  [pickup, delivery]   \n",
       "\n",
       "    price                                           location         phone  \\\n",
       "266    $$  {'address1': '730 Taraval St', 'address2': '',...  +14156654136   \n",
       "267    $$  {'address1': '5290 Diamond Heights Blvd', 'add...  +14158247744   \n",
       "268     $  {'address1': '3274 21st St', 'address2': '', '...  +14156951615   \n",
       "269    $$  {'address1': '173 Airport Access Rd', 'address...  +16508219290   \n",
       "270     $  {'address1': '3116 Noriega St', 'address2': No...  +14156818100   \n",
       "\n",
       "      display_phone     distance  \n",
       "266  (415) 665-4136  7470.586859  \n",
       "267  (415) 824-7744  7352.131724  \n",
       "268  (415) 695-1615  9203.601452  \n",
       "269  (650) 821-9290  9263.749899  \n",
       "270  (415) 681-8100  9214.852991  "
      ]
     },
     "metadata": {},
     "output_type": "display_data"
    }
   ],
   "source": [
    "# load final results\n",
    "final_df = pd.read_json(JSON_FILE)\n",
    "display(final_df.head(), final_df.tail())"
   ]
  },
  {
   "cell_type": "code",
   "execution_count": 13,
   "id": "f1629188",
   "metadata": {},
   "outputs": [
    {
     "data": {
      "text/plain": [
       "0"
      ]
     },
     "execution_count": 13,
     "metadata": {},
     "output_type": "execute_result"
    }
   ],
   "source": [
    "# check for duplicate ID's \n",
    "final_df.duplicated(subset='id').sum()"
   ]
  },
  {
   "cell_type": "code",
   "execution_count": 14,
   "id": "d126a603",
   "metadata": {},
   "outputs": [],
   "source": [
    "# save the final results to a compressed csv\n",
    "final_df.to_csv('Data/final_results_CA_sushi.csv.gz', compression='gzip',index=False)"
   ]
  }
 ],
 "metadata": {
  "kernelspec": {
   "display_name": "Python (dojo-env)",
   "language": "python",
   "name": "dojo-env"
  },
  "language_info": {
   "codemirror_mode": {
    "name": "ipython",
    "version": 3
   },
   "file_extension": ".py",
   "mimetype": "text/x-python",
   "name": "python",
   "nbconvert_exporter": "python",
   "pygments_lexer": "ipython3",
   "version": "3.9.15"
  },
  "toc": {
   "base_numbering": 1,
   "nav_menu": {},
   "number_sections": true,
   "sideBar": true,
   "skip_h1_title": false,
   "title_cell": "Table of Contents",
   "title_sidebar": "Contents",
   "toc_cell": false,
   "toc_position": {},
   "toc_section_display": true,
   "toc_window_display": false
  }
 },
 "nbformat": 4,
 "nbformat_minor": 5
}
